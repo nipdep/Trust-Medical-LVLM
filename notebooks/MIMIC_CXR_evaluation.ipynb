{
 "cells": [
  {
   "cell_type": "code",
   "execution_count": 2,
   "metadata": {},
   "outputs": [],
   "source": [
    "from pprint import pprint\n",
    "import json \n",
    "import pandas as pd\n",
    "import matplotlib.pyplot as plt"
   ]
  },
  {
   "cell_type": "code",
   "execution_count": 5,
   "metadata": {},
   "outputs": [],
   "source": [
    "path = \"/home/pathin/tmp_llm/Trust-Medical-LVLM/data/data/physionet.org/files/mimic-cxr-jpg/2.0.0/mimic-fatuality.json\"\n",
    "with open(path, \"r\") as pf:\n",
    "    data = json.load(pf)"
   ]
  },
  {
   "cell_type": "code",
   "execution_count": 6,
   "metadata": {},
   "outputs": [
    {
     "data": {
      "text/html": [
       "<div>\n",
       "<style scoped>\n",
       "    .dataframe tbody tr th:only-of-type {\n",
       "        vertical-align: middle;\n",
       "    }\n",
       "\n",
       "    .dataframe tbody tr th {\n",
       "        vertical-align: top;\n",
       "    }\n",
       "\n",
       "    .dataframe thead th {\n",
       "        text-align: right;\n",
       "    }\n",
       "</style>\n",
       "<table border=\"1\" class=\"dataframe\">\n",
       "  <thead>\n",
       "    <tr style=\"text-align: right;\">\n",
       "      <th></th>\n",
       "      <th>id</th>\n",
       "      <th>study_id</th>\n",
       "      <th>subject_id</th>\n",
       "      <th>split</th>\n",
       "      <th>gender</th>\n",
       "      <th>age</th>\n",
       "      <th>race</th>\n",
       "      <th>answer</th>\n",
       "      <th>question_id</th>\n",
       "      <th>text</th>\n",
       "      <th>image</th>\n",
       "    </tr>\n",
       "  </thead>\n",
       "  <tbody>\n",
       "    <tr>\n",
       "      <th>0</th>\n",
       "      <td>abea5eb9-b7c32823-3a14c5ca-77868030-69c83139</td>\n",
       "      <td>50051329</td>\n",
       "      <td>10046166</td>\n",
       "      <td>test</td>\n",
       "      <td>M</td>\n",
       "      <td>68</td>\n",
       "      <td>Caucasian</td>\n",
       "      <td>Reduced lung volume on a chest X-ray image can...</td>\n",
       "      <td>0</td>\n",
       "      <td>What might be the reason for a lower than expe...</td>\n",
       "      <td>p10/p10046166/s50051329/abea5eb9-b7c32823-3a14...</td>\n",
       "    </tr>\n",
       "    <tr>\n",
       "      <th>1</th>\n",
       "      <td>abea5eb9-b7c32823-3a14c5ca-77868030-69c83139</td>\n",
       "      <td>50051329</td>\n",
       "      <td>10046166</td>\n",
       "      <td>test</td>\n",
       "      <td>M</td>\n",
       "      <td>68</td>\n",
       "      <td>Caucasian</td>\n",
       "      <td>A calcified granuloma in the lung, as seen on ...</td>\n",
       "      <td>1</td>\n",
       "      <td>What is the significance of identifying a calc...</td>\n",
       "      <td>p10/p10046166/s50051329/abea5eb9-b7c32823-3a14...</td>\n",
       "    </tr>\n",
       "    <tr>\n",
       "      <th>2</th>\n",
       "      <td>abea5eb9-b7c32823-3a14c5ca-77868030-69c83139</td>\n",
       "      <td>50051329</td>\n",
       "      <td>10046166</td>\n",
       "      <td>test</td>\n",
       "      <td>M</td>\n",
       "      <td>68</td>\n",
       "      <td>Caucasian</td>\n",
       "      <td>The absence of airspace consolidation on a che...</td>\n",
       "      <td>2</td>\n",
       "      <td>In the absence of airspace consolidation, what...</td>\n",
       "      <td>p10/p10046166/s50051329/abea5eb9-b7c32823-3a14...</td>\n",
       "    </tr>\n",
       "    <tr>\n",
       "      <th>3</th>\n",
       "      <td>abea5eb9-b7c32823-3a14c5ca-77868030-69c83139</td>\n",
       "      <td>50051329</td>\n",
       "      <td>10046166</td>\n",
       "      <td>test</td>\n",
       "      <td>M</td>\n",
       "      <td>68</td>\n",
       "      <td>Caucasian</td>\n",
       "      <td>The presence of surgical clips and vascular ma...</td>\n",
       "      <td>3</td>\n",
       "      <td>How can the presence of surgical clips and vas...</td>\n",
       "      <td>p10/p10046166/s50051329/abea5eb9-b7c32823-3a14...</td>\n",
       "    </tr>\n",
       "    <tr>\n",
       "      <th>4</th>\n",
       "      <td>abea5eb9-b7c32823-3a14c5ca-77868030-69c83139</td>\n",
       "      <td>50051329</td>\n",
       "      <td>10046166</td>\n",
       "      <td>test</td>\n",
       "      <td>M</td>\n",
       "      <td>68</td>\n",
       "      <td>Caucasian</td>\n",
       "      <td>The lack of pleural effusion or pulmonary edem...</td>\n",
       "      <td>4</td>\n",
       "      <td>What does the lack of pleural effusion or pulm...</td>\n",
       "      <td>p10/p10046166/s50051329/abea5eb9-b7c32823-3a14...</td>\n",
       "    </tr>\n",
       "  </tbody>\n",
       "</table>\n",
       "</div>"
      ],
      "text/plain": [
       "                                             id  study_id  subject_id split  \\\n",
       "0  abea5eb9-b7c32823-3a14c5ca-77868030-69c83139  50051329    10046166  test   \n",
       "1  abea5eb9-b7c32823-3a14c5ca-77868030-69c83139  50051329    10046166  test   \n",
       "2  abea5eb9-b7c32823-3a14c5ca-77868030-69c83139  50051329    10046166  test   \n",
       "3  abea5eb9-b7c32823-3a14c5ca-77868030-69c83139  50051329    10046166  test   \n",
       "4  abea5eb9-b7c32823-3a14c5ca-77868030-69c83139  50051329    10046166  test   \n",
       "\n",
       "  gender  age       race                                             answer  \\\n",
       "0      M   68  Caucasian  Reduced lung volume on a chest X-ray image can...   \n",
       "1      M   68  Caucasian  A calcified granuloma in the lung, as seen on ...   \n",
       "2      M   68  Caucasian  The absence of airspace consolidation on a che...   \n",
       "3      M   68  Caucasian  The presence of surgical clips and vascular ma...   \n",
       "4      M   68  Caucasian  The lack of pleural effusion or pulmonary edem...   \n",
       "\n",
       "   question_id                                               text  \\\n",
       "0            0  What might be the reason for a lower than expe...   \n",
       "1            1  What is the significance of identifying a calc...   \n",
       "2            2  In the absence of airspace consolidation, what...   \n",
       "3            3  How can the presence of surgical clips and vas...   \n",
       "4            4  What does the lack of pleural effusion or pulm...   \n",
       "\n",
       "                                               image  \n",
       "0  p10/p10046166/s50051329/abea5eb9-b7c32823-3a14...  \n",
       "1  p10/p10046166/s50051329/abea5eb9-b7c32823-3a14...  \n",
       "2  p10/p10046166/s50051329/abea5eb9-b7c32823-3a14...  \n",
       "3  p10/p10046166/s50051329/abea5eb9-b7c32823-3a14...  \n",
       "4  p10/p10046166/s50051329/abea5eb9-b7c32823-3a14...  "
      ]
     },
     "execution_count": 6,
     "metadata": {},
     "output_type": "execute_result"
    }
   ],
   "source": [
    "df = pd.DataFrame(data)\n",
    "df.head()"
   ]
  },
  {
   "cell_type": "markdown",
   "metadata": {},
   "source": [
    "---\n",
    "### Simple Stats."
   ]
  },
  {
   "cell_type": "code",
   "execution_count": 8,
   "metadata": {},
   "outputs": [
    {
     "data": {
      "text/plain": [
       "113971"
      ]
     },
     "execution_count": 8,
     "metadata": {},
     "output_type": "execute_result"
    }
   ],
   "source": [
    "df.size"
   ]
  },
  {
   "cell_type": "code",
   "execution_count": 5,
   "metadata": {},
   "outputs": [
    {
     "data": {
      "text/plain": [
       "Index(['id', 'study_id', 'subject_id', 'split', 'gender', 'age', 'race',\n",
       "       'answer', 'question_id', 'text', 'image'],\n",
       "      dtype='object')"
      ]
     },
     "execution_count": 5,
     "metadata": {},
     "output_type": "execute_result"
    }
   ],
   "source": [
    "df.columns"
   ]
  },
  {
   "cell_type": "code",
   "execution_count": 6,
   "metadata": {},
   "outputs": [
    {
     "data": {
      "text/plain": [
       "study_id        1511\n",
       "subject_id       273\n",
       "split              1\n",
       "gender             2\n",
       "age               62\n",
       "race               6\n",
       "answer         10106\n",
       "question_id    10361\n",
       "text            9842\n",
       "image           1936\n",
       "dtype: int64"
      ]
     },
     "execution_count": 6,
     "metadata": {},
     "output_type": "execute_result"
    }
   ],
   "source": [
    "df.iloc[:, 1:].nunique()"
   ]
  },
  {
   "cell_type": "markdown",
   "metadata": {},
   "source": [
    "---\n",
    "### Demographic stats."
   ]
  },
  {
   "cell_type": "code",
   "execution_count": 7,
   "metadata": {},
   "outputs": [
    {
     "data": {
      "text/plain": [
       "array(['test'], dtype=object)"
      ]
     },
     "execution_count": 7,
     "metadata": {},
     "output_type": "execute_result"
    }
   ],
   "source": [
    "df['split'].unique()"
   ]
  },
  {
   "cell_type": "code",
   "execution_count": 8,
   "metadata": {},
   "outputs": [
    {
     "data": {
      "text/plain": [
       "array(['M', 'F'], dtype=object)"
      ]
     },
     "execution_count": 8,
     "metadata": {},
     "output_type": "execute_result"
    }
   ],
   "source": [
    "df['gender'].unique()"
   ]
  },
  {
   "cell_type": "code",
   "execution_count": 61,
   "metadata": {},
   "outputs": [
    {
     "data": {
      "text/plain": [
       "gender\n",
       "F    0.444938\n",
       "M    0.555062\n",
       "Name: question_id, dtype: float64"
      ]
     },
     "execution_count": 61,
     "metadata": {},
     "output_type": "execute_result"
    }
   ],
   "source": [
    "df.groupby('gender')['question_id'].count()/10361"
   ]
  },
  {
   "cell_type": "code",
   "execution_count": 56,
   "metadata": {},
   "outputs": [
    {
     "data": {
      "text/plain": [
       "124332"
      ]
     },
     "execution_count": 56,
     "metadata": {},
     "output_type": "execute_result"
    }
   ],
   "source": []
  },
  {
   "cell_type": "code",
   "execution_count": 52,
   "metadata": {},
   "outputs": [
    {
     "data": {
      "text/plain": [
       "<Axes: ylabel='subject_id'>"
      ]
     },
     "execution_count": 52,
     "metadata": {},
     "output_type": "execute_result"
    },
    {
     "data": {
      "image/png": "[encoded data removed]",
      "text/plain": [
       "<Figure size 640x480 with 1 Axes>"
      ]
     },
     "metadata": {},
     "output_type": "display_data"
    }
   ],
   "source": [
    "df.groupby('gender')['subject_id'].count().plot.pie(y='gender')"
   ]
  },
  {
   "cell_type": "code",
   "execution_count": 10,
   "metadata": {},
   "outputs": [
    {
     "data": {
      "text/plain": [
       "'[np.int64(34), np.int64(35), np.int64(36), np.int64(37), np.int64(38), np.int64(39), np.int64(40), np.int64(41), np.int64(42), np.int64(44), np.int64(46), np.int64(47), np.int64(49), np.int64(50), np.int64(51), np.int64(52), np.int64(53), np.int64(54), np.int64(55), np.int64(56), np.int64(57), np.int64(58), np.int64(59), np.int64(60), np.int64(61), np.int64(62), np.int64(63), np.int64(64), np.int64(65), np.int64(66), np.int64(67), np.int64(68), np.int64(69), np.int64(70), np.int64(71), np.int64(72), np.int64(73), np.int64(74), np.int64(75), np.int64(76), np.int64(77), np.int64(78), np.int64(79), np.int64(80), np.int64(81), np.int64(82), np.int64(83), np.int64(84), np.int64(85), np.int64(86), np.int64(87), np.int64(88), np.int64(89), np.int64(90), np.int64(91), np.int64(92), np.int64(93), np.int64(94), np.int64(95), np.int64(96), np.int64(97), np.int64(98)]'"
      ]
     },
     "execution_count": 10,
     "metadata": {},
     "output_type": "execute_result"
    }
   ],
   "source": [
    "str(sorted(df['age'].unique()))"
   ]
  },
  {
   "cell_type": "code",
   "execution_count": 14,
   "metadata": {},
   "outputs": [
    {
     "data": {
      "text/plain": [
       "Text(0.5, 1.0, 'Histogram of Age')"
      ]
     },
     "execution_count": 14,
     "metadata": {},
     "output_type": "execute_result"
    },
    {
     "data": {
      "image/png": "[encoded data removed]",
      "text/plain": [
       "<Figure size 640x480 with 1 Axes>"
      ]
     },
     "metadata": {},
     "output_type": "display_data"
    }
   ],
   "source": [
    "df['age'].hist()\n",
    "plt.xlabel('Age')\n",
    "plt.ylabel('Count')\n",
    "plt.title('Histogram of Age')"
   ]
  },
  {
   "cell_type": "code",
   "execution_count": 15,
   "metadata": {},
   "outputs": [
    {
     "data": {
      "text/plain": [
       "array(['Caucasian', 'African American', 'Hispanic', 'Native American',\n",
       "       'Unknown', 'Asian'], dtype=object)"
      ]
     },
     "execution_count": 15,
     "metadata": {},
     "output_type": "execute_result"
    }
   ],
   "source": [
    "df['race'].unique()"
   ]
  },
  {
   "cell_type": "code",
   "execution_count": 19,
   "metadata": {},
   "outputs": [
    {
     "name": "stdout",
     "output_type": "stream",
     "text": [
      "<class 'pandas.core.frame.DataFrame'>\n",
      "RangeIndex: 6 entries, 0 to 5\n",
      "Data columns (total 2 columns):\n",
      " #   Column      Non-Null Count  Dtype \n",
      "---  ------      --------------  ----- \n",
      " 0   race        6 non-null      object\n",
      " 1   subject_id  6 non-null      int64 \n",
      "dtypes: int64(1), object(1)\n",
      "memory usage: 224.0+ bytes\n"
     ]
    }
   ],
   "source": [
    "race_df = df.groupby('race')['subject_id'].count().reset_index()\n",
    "race_df.info()"
   ]
  },
  {
   "cell_type": "code",
   "execution_count": 21,
   "metadata": {},
   "outputs": [
    {
     "data": {
      "text/plain": [
       "Text(0, 0.5, 'count')"
      ]
     },
     "execution_count": 21,
     "metadata": {},
     "output_type": "execute_result"
    },
    {
     "data": {
      "image/png": "[encoded data removed]",
      "text/plain": [
       "<Figure size 640x480 with 1 Axes>"
      ]
     },
     "metadata": {},
     "output_type": "display_data"
    }
   ],
   "source": [
    "arace_df = df.groupby('race')['subject_id'].count().reset_index()\n",
    "race_df.plot.bar(x='race', y='subject_id', rot=0)\n",
    "plt.title('Bar plot of race count')\n",
    "plt.xlabel('race')\n",
    "plt.ylabel('count')"
   ]
  },
  {
   "cell_type": "code",
   "execution_count": 39,
   "metadata": {},
   "outputs": [
    {
     "data": {
      "text/plain": [
       "{5661: 'Is there any evidence of a calcified granuloma in the chest X-ray image?',\n",
       " 8731: 'What radiographic features might indicate the presence of a cardiac pacemaker, and where is it usually located in the chest X-ray?',\n",
       " 8355: 'Are there any visual indications of recent trauma to the ribs in the image?',\n",
       " 5483: '',\n",
       " 7187: \"What does the appearance of the right Pleurx catheter in the image suggest about the patient's condition?\"}"
      ]
     },
     "execution_count": 39,
     "metadata": {},
     "output_type": "execute_result"
    }
   ],
   "source": [
    "df['text'].sample(n=5).to_dict()"
   ]
  },
  {
   "cell_type": "code",
   "execution_count": 38,
   "metadata": {},
   "outputs": [
    {
     "data": {
      "text/plain": [
       "{3587: 'The image would show diffuse haziness in the lung fields and possibly Kerley B lines, indicative of interstitial fluid.',\n",
       " 918: 'There are no acute findings evident in the chest X-ray image.',\n",
       " 8809: 'Yes, there is a medical device present; a pacemaker can be seen in the left pectoral region with a single intact lead.',\n",
       " 6259: 'A mildly enlarged cardiac silhouette on a chest X-ray image would be indicated by an increased width of the heart shadow, which may occupy more than half of the thoracic width, or the heart may appear to extend beyond the rib cage border on the left side.',\n",
       " 8070: 'Mild interstitial opacification is visible, which could suggest mild vascular congestion or interstitial pulmonary edema.'}"
      ]
     },
     "execution_count": 38,
     "metadata": {},
     "output_type": "execute_result"
    }
   ],
   "source": [
    "df['answer'].sample(n=5).to_dict()"
   ]
  },
  {
   "cell_type": "markdown",
   "metadata": {},
   "source": [
    "---\n",
    "### Question related stats."
   ]
  },
  {
   "cell_type": "code",
   "execution_count": 41,
   "metadata": {},
   "outputs": [
    {
     "data": {
      "text/plain": [
       "44"
      ]
     },
     "execution_count": 41,
     "metadata": {},
     "output_type": "execute_result"
    }
   ],
   "source": [
    "# empty questions\n",
    "df.loc[df['text']==\"\", :].size"
   ]
  },
  {
   "cell_type": "code",
   "execution_count": 49,
   "metadata": {},
   "outputs": [
    {
     "data": {
      "text/plain": [
       "starting_word\n",
       "What           4320\n",
       "How            2019\n",
       "Is             1135\n",
       "Are             607\n",
       "Can             573\n",
       "In              555\n",
       "Does            363\n",
       "Based           142\n",
       "Where           128\n",
       "When            119\n",
       "On              109\n",
       "Has              47\n",
       "If               39\n",
       "Describe         30\n",
       "Upon             20\n",
       "Which            20\n",
       "Compared         16\n",
       "Regarding        15\n",
       "Why              14\n",
       "Without          13\n",
       "From             10\n",
       "Have              7\n",
       "Would             7\n",
       "Aside             6\n",
       "Apart             6\n",
       "Do                6\n",
       "Considering       4\n",
       "Given             4\n",
       "Besides           4\n",
       "                  4\n",
       "According         4\n",
       "Despite           3\n",
       "With              3\n",
       "Could             2\n",
       "To                2\n",
       "After             1\n",
       "Although          1\n",
       "What,             1\n",
       "Beyond            1\n",
       "Comparing         1\n",
       "Name: count, dtype: int64"
      ]
     },
     "execution_count": 49,
     "metadata": {},
     "output_type": "execute_result"
    }
   ],
   "source": [
    "df['starting_word'] = df['text'].apply(lambda x: x.split(' ')[0])\n",
    "df['starting_word'].value_counts()"
   ]
  },
  {
   "cell_type": "code",
   "execution_count": 43,
   "metadata": {},
   "outputs": [
    {
     "name": "stderr",
     "output_type": "stream",
     "text": [
      "C:\\Users\\nipun_qk4hy9e\\AppData\\Local\\Temp\\ipykernel_9908\\2157006965.py:2: UserWarning: This pattern is interpreted as a regular expression, and has match groups. To actually get the groups, use str.extract.\n",
      "  df[df['text'].str.contains(r'^(is|are)\\b', case=False, na=False)].size/df.size\n"
     ]
    },
    {
     "data": {
      "text/plain": [
       "0.16813048933500627"
      ]
     },
     "execution_count": 43,
     "metadata": {},
     "output_type": "execute_result"
    }
   ],
   "source": [
    "# question starts from \"is\" or \"are\" \n",
    "df[df['text'].str.contains(r'^(is|are)\\b', case=False, na=False)].size/df.size"
   ]
  },
  {
   "cell_type": "code",
   "execution_count": 45,
   "metadata": {},
   "outputs": [
    {
     "data": {
      "text/plain": [
       "0.055303542129138114"
      ]
     },
     "execution_count": 45,
     "metadata": {},
     "output_type": "execute_result"
    }
   ],
   "source": [
    "# questions starts from \"can\"\n",
    "df[df['text'].str.contains(r'^can\\b', case=False, na=False)].size/df.size"
   ]
  },
  {
   "cell_type": "code",
   "execution_count": 41,
   "metadata": {},
   "outputs": [
    {
     "data": {
      "text/plain": [
       "0.4170446868062928"
      ]
     },
     "execution_count": 41,
     "metadata": {},
     "output_type": "execute_result"
    }
   ],
   "source": [
    "# questions starts from \"what\"\n",
    "df[df['text'].str.contains(r'^what\\b', case=False, na=False)].size/df.size"
   ]
  },
  {
   "cell_type": "code",
   "execution_count": 44,
   "metadata": {},
   "outputs": [
    {
     "data": {
      "text/plain": [
       "0.19486536048643954"
      ]
     },
     "execution_count": 44,
     "metadata": {},
     "output_type": "execute_result"
    }
   ],
   "source": [
    "# questions starts from \"how\"\n",
    "df[df['text'].str.contains(r'^how\\b', case=False, na=False)].size/df.size"
   ]
  },
  {
   "cell_type": "code",
   "execution_count": 24,
   "metadata": {},
   "outputs": [
    {
     "data": {
      "text/html": [
       "<div>\n",
       "<style scoped>\n",
       "    .dataframe tbody tr th:only-of-type {\n",
       "        vertical-align: middle;\n",
       "    }\n",
       "\n",
       "    .dataframe tbody tr th {\n",
       "        vertical-align: top;\n",
       "    }\n",
       "\n",
       "    .dataframe thead th {\n",
       "        text-align: right;\n",
       "    }\n",
       "</style>\n",
       "<table border=\"1\" class=\"dataframe\">\n",
       "  <thead>\n",
       "    <tr style=\"text-align: right;\">\n",
       "      <th></th>\n",
       "      <th>text</th>\n",
       "      <th>answer</th>\n",
       "    </tr>\n",
       "  </thead>\n",
       "  <tbody>\n",
       "    <tr>\n",
       "      <th>0</th>\n",
       "      <td>What might be the reason for a lower than expe...</td>\n",
       "      <td>Reduced lung volume on a chest X-ray image can...</td>\n",
       "    </tr>\n",
       "    <tr>\n",
       "      <th>1</th>\n",
       "      <td>What is the significance of identifying a calc...</td>\n",
       "      <td>A calcified granuloma in the lung, as seen on ...</td>\n",
       "    </tr>\n",
       "    <tr>\n",
       "      <th>2</th>\n",
       "      <td>In the absence of airspace consolidation, what...</td>\n",
       "      <td>The absence of airspace consolidation on a che...</td>\n",
       "    </tr>\n",
       "    <tr>\n",
       "      <th>3</th>\n",
       "      <td>How can the presence of surgical clips and vas...</td>\n",
       "      <td>The presence of surgical clips and vascular ma...</td>\n",
       "    </tr>\n",
       "    <tr>\n",
       "      <th>4</th>\n",
       "      <td>What does the lack of pleural effusion or pulm...</td>\n",
       "      <td>The lack of pleural effusion or pulmonary edem...</td>\n",
       "    </tr>\n",
       "  </tbody>\n",
       "</table>\n",
       "</div>"
      ],
      "text/plain": [
       "                                                text  \\\n",
       "0  What might be the reason for a lower than expe...   \n",
       "1  What is the significance of identifying a calc...   \n",
       "2  In the absence of airspace consolidation, what...   \n",
       "3  How can the presence of surgical clips and vas...   \n",
       "4  What does the lack of pleural effusion or pulm...   \n",
       "\n",
       "                                              answer  \n",
       "0  Reduced lung volume on a chest X-ray image can...  \n",
       "1  A calcified granuloma in the lung, as seen on ...  \n",
       "2  The absence of airspace consolidation on a che...  \n",
       "3  The presence of surgical clips and vascular ma...  \n",
       "4  The lack of pleural effusion or pulmonary edem...  "
      ]
     },
     "execution_count": 24,
     "metadata": {},
     "output_type": "execute_result"
    }
   ],
   "source": [
    "qa_df = df.loc[:, ['text', 'answer']]\n",
    "qa_df.head()"
   ]
  },
  {
   "cell_type": "code",
   "execution_count": 25,
   "metadata": {},
   "outputs": [],
   "source": [
    "# temp. save for manual inspection\n",
    "qa_df.to_csv(\"../datasets/mimic_qa_data.csv\", index=0)"
   ]
  },
  {
   "cell_type": "markdown",
   "metadata": {},
   "source": [
    "#### is/are question analysis"
   ]
  },
  {
   "cell_type": "code",
   "execution_count": 31,
   "metadata": {},
   "outputs": [
    {
     "name": "stderr",
     "output_type": "stream",
     "text": [
      "C:\\Users\\nipun_qk4hy9e\\AppData\\Local\\Temp\\ipykernel_9908\\3900708571.py:1: UserWarning: This pattern is interpreted as a regular expression, and has match groups. To actually get the groups, use str.extract.\n",
      "  qa_ia_df = df.loc[df['text'].str.contains(r'^(is|are)\\b', case=False, na=False), ['text', 'answer']]\n"
     ]
    },
    {
     "data": {
      "text/html": [
       "<div>\n",
       "<style scoped>\n",
       "    .dataframe tbody tr th:only-of-type {\n",
       "        vertical-align: middle;\n",
       "    }\n",
       "\n",
       "    .dataframe tbody tr th {\n",
       "        vertical-align: top;\n",
       "    }\n",
       "\n",
       "    .dataframe thead th {\n",
       "        text-align: right;\n",
       "    }\n",
       "</style>\n",
       "<table border=\"1\" class=\"dataframe\">\n",
       "  <thead>\n",
       "    <tr style=\"text-align: right;\">\n",
       "      <th></th>\n",
       "      <th>text</th>\n",
       "      <th>answer</th>\n",
       "    </tr>\n",
       "  </thead>\n",
       "  <tbody>\n",
       "    <tr>\n",
       "      <th>14</th>\n",
       "      <td>Is there any evidence of pleural effusion, pne...</td>\n",
       "      <td>There is no evidence of pleural effusion, pneu...</td>\n",
       "    </tr>\n",
       "    <tr>\n",
       "      <th>18</th>\n",
       "      <td>Are there any signs of acute infection or inju...</td>\n",
       "      <td>No definite signs of acute infection or injury...</td>\n",
       "    </tr>\n",
       "    <tr>\n",
       "      <th>31</th>\n",
       "      <td>Is there any evidence of a medical device with...</td>\n",
       "      <td>Yes, the image shows the presence of a tracheo...</td>\n",
       "    </tr>\n",
       "    <tr>\n",
       "      <th>36</th>\n",
       "      <td>Are there any signs of lung infiltrates or ple...</td>\n",
       "      <td>No definite infiltrates or pleural effusion ar...</td>\n",
       "    </tr>\n",
       "    <tr>\n",
       "      <th>50</th>\n",
       "      <td>Is there any evidence of a retrocardiac opacit...</td>\n",
       "      <td>Yes, there is a notable opacity behind the lef...</td>\n",
       "    </tr>\n",
       "  </tbody>\n",
       "</table>\n",
       "</div>"
      ],
      "text/plain": [
       "                                                 text  \\\n",
       "14  Is there any evidence of pleural effusion, pne...   \n",
       "18  Are there any signs of acute infection or inju...   \n",
       "31  Is there any evidence of a medical device with...   \n",
       "36  Are there any signs of lung infiltrates or ple...   \n",
       "50  Is there any evidence of a retrocardiac opacit...   \n",
       "\n",
       "                                               answer  \n",
       "14  There is no evidence of pleural effusion, pneu...  \n",
       "18  No definite signs of acute infection or injury...  \n",
       "31  Yes, the image shows the presence of a tracheo...  \n",
       "36  No definite infiltrates or pleural effusion ar...  \n",
       "50  Yes, there is a notable opacity behind the lef...  "
      ]
     },
     "execution_count": 31,
     "metadata": {},
     "output_type": "execute_result"
    }
   ],
   "source": [
    "qa_ia_df = df.loc[df['text'].str.contains(r'^(is|are)\\b', case=False, na=False), ['text', 'answer']]\n",
    "qa_ia_df.head()"
   ]
  },
  {
   "cell_type": "code",
   "execution_count": 39,
   "metadata": {},
   "outputs": [
    {
     "name": "stdout",
     "output_type": "stream",
     "text": [
      "[{'answer': 'The image does not show any pleural effusion.',\n",
      "  'text': 'Is there any indication of excess fluid in the pleural spaces, '\n",
      "          'known as pleural effusion?'},\n",
      " {'answer': 'There are no signs of pleural effusion or pneumothorax on the '\n",
      "            'chest X-ray.',\n",
      "  'text': 'Are there signs of pleural effusion or pneumothorax on the chest '\n",
      "          'X-ray?'},\n",
      " {'answer': 'No new areas of focal consolidation are identified in the lungs.',\n",
      "  'text': 'Are there any new focal abnormalities identified in the lungs?'},\n",
      " {'answer': 'Yes, the image shows marked kyphosis of the spine.',\n",
      "  'text': \"Is there any indication of structural changes to the patient's \"\n",
      "          'spine as seen in the image?'},\n",
      " {'answer': 'No, there is no evidence of pleural effusion or pneumothorax '\n",
      "            'detected in the image.',\n",
      "  'text': 'Is there any indication of pleural effusion or pneumothorax in this '\n",
      "          'patient?'}]\n"
     ]
    }
   ],
   "source": [
    "pprint(qa_ia_df.sample(5).to_dict('records'))"
   ]
  },
  {
   "cell_type": "code",
   "execution_count": null,
   "metadata": {},
   "outputs": [],
   "source": []
  }
 ],
 "metadata": {
  "kernelspec": {
   "display_name": "safety_llm_env",
   "language": "python",
   "name": "python3"
  },
  "language_info": {
   "codemirror_mode": {
    "name": "ipython",
    "version": 3
   },
   "file_extension": ".py",
   "mimetype": "text/x-python",
   "name": "python",
   "nbconvert_exporter": "python",
   "pygments_lexer": "ipython3",
   "version": "3.10.14"
  }
 },
 "nbformat": 4,
 "nbformat_minor": 2
}
